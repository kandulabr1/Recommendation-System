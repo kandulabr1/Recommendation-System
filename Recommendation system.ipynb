{
 "cells": [
  {
   "cell_type": "markdown",
   "id": "18adf6f4-4464-4f99-9ccb-21b9211fd758",
   "metadata": {},
   "source": [
    "# **A Recommendation system** from  Steam database to give recommemdations of Games for User"
   ]
  },
  {
   "cell_type": "code",
   "execution_count": 1,
   "id": "deac3156-7b4b-416d-94d9-c88a4b1ad772",
   "metadata": {},
   "outputs": [],
   "source": [
    "import numpy as np\n",
    "import pandas as pd\n",
    "import matplotlib.pyplot as plt\n",
    "import seaborn as sns"
   ]
  },
  {
   "cell_type": "code",
   "execution_count": 2,
   "id": "ebba9f3e-d5d1-476c-97c0-c7298af8eca3",
   "metadata": {},
   "outputs": [
    {
     "data": {
      "text/html": [
       "<div>\n",
       "<style scoped>\n",
       "    .dataframe tbody tr th:only-of-type {\n",
       "        vertical-align: middle;\n",
       "    }\n",
       "\n",
       "    .dataframe tbody tr th {\n",
       "        vertical-align: top;\n",
       "    }\n",
       "\n",
       "    .dataframe thead th {\n",
       "        text-align: right;\n",
       "    }\n",
       "</style>\n",
       "<table border=\"1\" class=\"dataframe\">\n",
       "  <thead>\n",
       "    <tr style=\"text-align: right;\">\n",
       "      <th></th>\n",
       "      <th>151603712</th>\n",
       "      <th>The Elder Scrolls V Skyrim</th>\n",
       "      <th>purchase</th>\n",
       "      <th>1.0</th>\n",
       "      <th>0</th>\n",
       "    </tr>\n",
       "  </thead>\n",
       "  <tbody>\n",
       "    <tr>\n",
       "      <th>0</th>\n",
       "      <td>151603712</td>\n",
       "      <td>The Elder Scrolls V Skyrim</td>\n",
       "      <td>play</td>\n",
       "      <td>273.0</td>\n",
       "      <td>0</td>\n",
       "    </tr>\n",
       "    <tr>\n",
       "      <th>1</th>\n",
       "      <td>151603712</td>\n",
       "      <td>Fallout 4</td>\n",
       "      <td>purchase</td>\n",
       "      <td>1.0</td>\n",
       "      <td>0</td>\n",
       "    </tr>\n",
       "    <tr>\n",
       "      <th>2</th>\n",
       "      <td>151603712</td>\n",
       "      <td>Fallout 4</td>\n",
       "      <td>play</td>\n",
       "      <td>87.0</td>\n",
       "      <td>0</td>\n",
       "    </tr>\n",
       "    <tr>\n",
       "      <th>3</th>\n",
       "      <td>151603712</td>\n",
       "      <td>Spore</td>\n",
       "      <td>purchase</td>\n",
       "      <td>1.0</td>\n",
       "      <td>0</td>\n",
       "    </tr>\n",
       "    <tr>\n",
       "      <th>4</th>\n",
       "      <td>151603712</td>\n",
       "      <td>Spore</td>\n",
       "      <td>play</td>\n",
       "      <td>14.9</td>\n",
       "      <td>0</td>\n",
       "    </tr>\n",
       "    <tr>\n",
       "      <th>...</th>\n",
       "      <td>...</td>\n",
       "      <td>...</td>\n",
       "      <td>...</td>\n",
       "      <td>...</td>\n",
       "      <td>...</td>\n",
       "    </tr>\n",
       "    <tr>\n",
       "      <th>199994</th>\n",
       "      <td>128470551</td>\n",
       "      <td>Titan Souls</td>\n",
       "      <td>play</td>\n",
       "      <td>1.5</td>\n",
       "      <td>0</td>\n",
       "    </tr>\n",
       "    <tr>\n",
       "      <th>199995</th>\n",
       "      <td>128470551</td>\n",
       "      <td>Grand Theft Auto Vice City</td>\n",
       "      <td>purchase</td>\n",
       "      <td>1.0</td>\n",
       "      <td>0</td>\n",
       "    </tr>\n",
       "    <tr>\n",
       "      <th>199996</th>\n",
       "      <td>128470551</td>\n",
       "      <td>Grand Theft Auto Vice City</td>\n",
       "      <td>play</td>\n",
       "      <td>1.5</td>\n",
       "      <td>0</td>\n",
       "    </tr>\n",
       "    <tr>\n",
       "      <th>199997</th>\n",
       "      <td>128470551</td>\n",
       "      <td>RUSH</td>\n",
       "      <td>purchase</td>\n",
       "      <td>1.0</td>\n",
       "      <td>0</td>\n",
       "    </tr>\n",
       "    <tr>\n",
       "      <th>199998</th>\n",
       "      <td>128470551</td>\n",
       "      <td>RUSH</td>\n",
       "      <td>play</td>\n",
       "      <td>1.4</td>\n",
       "      <td>0</td>\n",
       "    </tr>\n",
       "  </tbody>\n",
       "</table>\n",
       "<p>199999 rows × 5 columns</p>\n",
       "</div>"
      ],
      "text/plain": [
       "        151603712  The Elder Scrolls V Skyrim  purchase    1.0  0\n",
       "0       151603712  The Elder Scrolls V Skyrim      play  273.0  0\n",
       "1       151603712                   Fallout 4  purchase    1.0  0\n",
       "2       151603712                   Fallout 4      play   87.0  0\n",
       "3       151603712                       Spore  purchase    1.0  0\n",
       "4       151603712                       Spore      play   14.9  0\n",
       "...           ...                         ...       ...    ... ..\n",
       "199994  128470551                 Titan Souls      play    1.5  0\n",
       "199995  128470551  Grand Theft Auto Vice City  purchase    1.0  0\n",
       "199996  128470551  Grand Theft Auto Vice City      play    1.5  0\n",
       "199997  128470551                        RUSH  purchase    1.0  0\n",
       "199998  128470551                        RUSH      play    1.4  0\n",
       "\n",
       "[199999 rows x 5 columns]"
      ]
     },
     "execution_count": 2,
     "metadata": {},
     "output_type": "execute_result"
    }
   ],
   "source": [
    "data = pd.read_csv('steam-200k.csv')\n",
    "data"
   ]
  },
  {
   "cell_type": "markdown",
   "id": "d04e2168-09d6-4ca5-ae2e-d3078cbb4ebf",
   "metadata": {},
   "source": [
    "## Rearranging/ Renaming the data frame"
   ]
  },
  {
   "cell_type": "code",
   "execution_count": 3,
   "id": "669e6ab9-5e2d-4c7b-84b6-4a125ef206fc",
   "metadata": {},
   "outputs": [],
   "source": [
    "cols = {'151603712':'Game_id','The Elder Scrolls V Skyrim':'Game_name','purchase':'Game_status','1.0':'Hourplayed'}\n",
    "data.rename(columns = cols,inplace =True)"
   ]
  },
  {
   "cell_type": "code",
   "execution_count": 4,
   "id": "d47f7e5a-8a9a-44e7-b931-38cef884a1ad",
   "metadata": {},
   "outputs": [
    {
     "data": {
      "text/html": [
       "<div>\n",
       "<style scoped>\n",
       "    .dataframe tbody tr th:only-of-type {\n",
       "        vertical-align: middle;\n",
       "    }\n",
       "\n",
       "    .dataframe tbody tr th {\n",
       "        vertical-align: top;\n",
       "    }\n",
       "\n",
       "    .dataframe thead th {\n",
       "        text-align: right;\n",
       "    }\n",
       "</style>\n",
       "<table border=\"1\" class=\"dataframe\">\n",
       "  <thead>\n",
       "    <tr style=\"text-align: right;\">\n",
       "      <th></th>\n",
       "      <th>Game_id</th>\n",
       "      <th>Game_name</th>\n",
       "      <th>Game_status</th>\n",
       "      <th>Hourplayed</th>\n",
       "      <th>0</th>\n",
       "    </tr>\n",
       "  </thead>\n",
       "  <tbody>\n",
       "    <tr>\n",
       "      <th>0</th>\n",
       "      <td>151603712</td>\n",
       "      <td>The Elder Scrolls V Skyrim</td>\n",
       "      <td>play</td>\n",
       "      <td>273.0</td>\n",
       "      <td>0</td>\n",
       "    </tr>\n",
       "    <tr>\n",
       "      <th>1</th>\n",
       "      <td>151603712</td>\n",
       "      <td>Fallout 4</td>\n",
       "      <td>purchase</td>\n",
       "      <td>1.0</td>\n",
       "      <td>0</td>\n",
       "    </tr>\n",
       "    <tr>\n",
       "      <th>2</th>\n",
       "      <td>151603712</td>\n",
       "      <td>Fallout 4</td>\n",
       "      <td>play</td>\n",
       "      <td>87.0</td>\n",
       "      <td>0</td>\n",
       "    </tr>\n",
       "    <tr>\n",
       "      <th>3</th>\n",
       "      <td>151603712</td>\n",
       "      <td>Spore</td>\n",
       "      <td>purchase</td>\n",
       "      <td>1.0</td>\n",
       "      <td>0</td>\n",
       "    </tr>\n",
       "    <tr>\n",
       "      <th>4</th>\n",
       "      <td>151603712</td>\n",
       "      <td>Spore</td>\n",
       "      <td>play</td>\n",
       "      <td>14.9</td>\n",
       "      <td>0</td>\n",
       "    </tr>\n",
       "  </tbody>\n",
       "</table>\n",
       "</div>"
      ],
      "text/plain": [
       "     Game_id                   Game_name Game_status  Hourplayed  0\n",
       "0  151603712  The Elder Scrolls V Skyrim        play       273.0  0\n",
       "1  151603712                   Fallout 4    purchase         1.0  0\n",
       "2  151603712                   Fallout 4        play        87.0  0\n",
       "3  151603712                       Spore    purchase         1.0  0\n",
       "4  151603712                       Spore        play        14.9  0"
      ]
     },
     "execution_count": 4,
     "metadata": {},
     "output_type": "execute_result"
    }
   ],
   "source": [
    "data.head()"
   ]
  },
  {
   "cell_type": "code",
   "execution_count": 5,
   "id": "e405b5d9-ae9b-482a-a596-b86bc4996028",
   "metadata": {},
   "outputs": [],
   "source": [
    "# Removing that invalid column\n",
    "data.drop(['0'], axis = 1, inplace = True)"
   ]
  },
  {
   "cell_type": "code",
   "execution_count": 6,
   "id": "47e6a132-2003-40b5-bcaf-6a6207a3e563",
   "metadata": {},
   "outputs": [
    {
     "data": {
      "text/html": [
       "<div>\n",
       "<style scoped>\n",
       "    .dataframe tbody tr th:only-of-type {\n",
       "        vertical-align: middle;\n",
       "    }\n",
       "\n",
       "    .dataframe tbody tr th {\n",
       "        vertical-align: top;\n",
       "    }\n",
       "\n",
       "    .dataframe thead th {\n",
       "        text-align: right;\n",
       "    }\n",
       "</style>\n",
       "<table border=\"1\" class=\"dataframe\">\n",
       "  <thead>\n",
       "    <tr style=\"text-align: right;\">\n",
       "      <th></th>\n",
       "      <th>Game_id</th>\n",
       "      <th>Game_name</th>\n",
       "      <th>Game_status</th>\n",
       "      <th>Hourplayed</th>\n",
       "    </tr>\n",
       "  </thead>\n",
       "  <tbody>\n",
       "    <tr>\n",
       "      <th>0</th>\n",
       "      <td>151603712</td>\n",
       "      <td>The Elder Scrolls V Skyrim</td>\n",
       "      <td>play</td>\n",
       "      <td>273.0</td>\n",
       "    </tr>\n",
       "    <tr>\n",
       "      <th>1</th>\n",
       "      <td>151603712</td>\n",
       "      <td>Fallout 4</td>\n",
       "      <td>purchase</td>\n",
       "      <td>1.0</td>\n",
       "    </tr>\n",
       "    <tr>\n",
       "      <th>2</th>\n",
       "      <td>151603712</td>\n",
       "      <td>Fallout 4</td>\n",
       "      <td>play</td>\n",
       "      <td>87.0</td>\n",
       "    </tr>\n",
       "    <tr>\n",
       "      <th>3</th>\n",
       "      <td>151603712</td>\n",
       "      <td>Spore</td>\n",
       "      <td>purchase</td>\n",
       "      <td>1.0</td>\n",
       "    </tr>\n",
       "    <tr>\n",
       "      <th>4</th>\n",
       "      <td>151603712</td>\n",
       "      <td>Spore</td>\n",
       "      <td>play</td>\n",
       "      <td>14.9</td>\n",
       "    </tr>\n",
       "  </tbody>\n",
       "</table>\n",
       "</div>"
      ],
      "text/plain": [
       "     Game_id                   Game_name Game_status  Hourplayed\n",
       "0  151603712  The Elder Scrolls V Skyrim        play       273.0\n",
       "1  151603712                   Fallout 4    purchase         1.0\n",
       "2  151603712                   Fallout 4        play        87.0\n",
       "3  151603712                       Spore    purchase         1.0\n",
       "4  151603712                       Spore        play        14.9"
      ]
     },
     "execution_count": 6,
     "metadata": {},
     "output_type": "execute_result"
    }
   ],
   "source": [
    "data.head()"
   ]
  },
  {
   "cell_type": "code",
   "execution_count": 7,
   "id": "a1994e37-39d6-46bf-a895-8a832e79bd6f",
   "metadata": {},
   "outputs": [
    {
     "name": "stdout",
     "output_type": "stream",
     "text": [
      "(199999, 4)\n",
      "False    199292\n",
      "True        707\n",
      "Name: count, dtype: int64\n"
     ]
    }
   ],
   "source": [
    "print(data.shape)\n",
    "print(data.duplicated().value_counts())"
   ]
  },
  {
   "cell_type": "code",
   "execution_count": 8,
   "id": "34e114e9-62a7-4814-9090-6190a6b4727b",
   "metadata": {},
   "outputs": [],
   "source": [
    "# Removing droplicate rows\n",
    "data.drop_duplicates(inplace=True)"
   ]
  },
  {
   "cell_type": "code",
   "execution_count": 9,
   "id": "51d0a65f-0e8a-4ee1-b7b4-48df15d37083",
   "metadata": {},
   "outputs": [
    {
     "data": {
      "text/plain": [
       "(199292, 4)"
      ]
     },
     "execution_count": 9,
     "metadata": {},
     "output_type": "execute_result"
    }
   ],
   "source": [
    "data.shape"
   ]
  },
  {
   "cell_type": "code",
   "execution_count": 10,
   "id": "0c0395a7-6a72-4b0c-bc4a-1cced042ec8f",
   "metadata": {},
   "outputs": [
    {
     "data": {
      "text/html": [
       "<div>\n",
       "<style scoped>\n",
       "    .dataframe tbody tr th:only-of-type {\n",
       "        vertical-align: middle;\n",
       "    }\n",
       "\n",
       "    .dataframe tbody tr th {\n",
       "        vertical-align: top;\n",
       "    }\n",
       "\n",
       "    .dataframe thead th {\n",
       "        text-align: right;\n",
       "    }\n",
       "</style>\n",
       "<table border=\"1\" class=\"dataframe\">\n",
       "  <thead>\n",
       "    <tr style=\"text-align: right;\">\n",
       "      <th></th>\n",
       "      <th>Game_id</th>\n",
       "      <th>Hourplayed</th>\n",
       "    </tr>\n",
       "  </thead>\n",
       "  <tbody>\n",
       "    <tr>\n",
       "      <th>count</th>\n",
       "      <td>1.992920e+05</td>\n",
       "      <td>199292.000000</td>\n",
       "    </tr>\n",
       "    <tr>\n",
       "      <th>mean</th>\n",
       "      <td>1.037179e+08</td>\n",
       "      <td>17.934332</td>\n",
       "    </tr>\n",
       "    <tr>\n",
       "      <th>std</th>\n",
       "      <td>7.212058e+07</td>\n",
       "      <td>138.298294</td>\n",
       "    </tr>\n",
       "    <tr>\n",
       "      <th>min</th>\n",
       "      <td>5.250000e+03</td>\n",
       "      <td>0.100000</td>\n",
       "    </tr>\n",
       "    <tr>\n",
       "      <th>25%</th>\n",
       "      <td>4.738430e+07</td>\n",
       "      <td>1.000000</td>\n",
       "    </tr>\n",
       "    <tr>\n",
       "      <th>50%</th>\n",
       "      <td>8.691201e+07</td>\n",
       "      <td>1.000000</td>\n",
       "    </tr>\n",
       "    <tr>\n",
       "      <th>75%</th>\n",
       "      <td>1.542309e+08</td>\n",
       "      <td>1.400000</td>\n",
       "    </tr>\n",
       "    <tr>\n",
       "      <th>max</th>\n",
       "      <td>3.099031e+08</td>\n",
       "      <td>11754.000000</td>\n",
       "    </tr>\n",
       "  </tbody>\n",
       "</table>\n",
       "</div>"
      ],
      "text/plain": [
       "            Game_id     Hourplayed\n",
       "count  1.992920e+05  199292.000000\n",
       "mean   1.037179e+08      17.934332\n",
       "std    7.212058e+07     138.298294\n",
       "min    5.250000e+03       0.100000\n",
       "25%    4.738430e+07       1.000000\n",
       "50%    8.691201e+07       1.000000\n",
       "75%    1.542309e+08       1.400000\n",
       "max    3.099031e+08   11754.000000"
      ]
     },
     "execution_count": 10,
     "metadata": {},
     "output_type": "execute_result"
    }
   ],
   "source": [
    "data.describe()"
   ]
  },
  {
   "cell_type": "code",
   "execution_count": 11,
   "id": "b50c2cd6-3c37-4564-b585-0cf0c5cc2a18",
   "metadata": {},
   "outputs": [
    {
     "name": "stdout",
     "output_type": "stream",
     "text": [
      "Game_id        12393\n",
      "Game_name       5155\n",
      "Game_status        2\n",
      "Hourplayed      1593\n",
      "dtype: int64\n",
      "<class 'pandas.core.frame.DataFrame'>\n",
      "Index: 199292 entries, 0 to 199998\n",
      "Data columns (total 4 columns):\n",
      " #   Column       Non-Null Count   Dtype  \n",
      "---  ------       --------------   -----  \n",
      " 0   Game_id      199292 non-null  int64  \n",
      " 1   Game_name    199292 non-null  object \n",
      " 2   Game_status  199292 non-null  object \n",
      " 3   Hourplayed   199292 non-null  float64\n",
      "dtypes: float64(1), int64(1), object(2)\n",
      "memory usage: 7.6+ MB\n",
      "None\n"
     ]
    }
   ],
   "source": [
    "print(data.nunique())\n",
    "print(data.info())"
   ]
  },
  {
   "cell_type": "code",
   "execution_count": 12,
   "id": "b7cbec4a-1e20-4541-8056-f0e8633203b7",
   "metadata": {},
   "outputs": [],
   "source": [
    "# List of Games\n",
    "# data['Game_name'].unique().tolist()"
   ]
  },
  {
   "cell_type": "code",
   "execution_count": 13,
   "id": "2a247fbe-9674-480c-aab1-d08bcf732585",
   "metadata": {},
   "outputs": [
    {
     "data": {
      "text/plain": [
       "Game_name\n",
       "Dota 2                                         986525.6\n",
       "Counter-Strike Global Offensive                324183.6\n",
       "Team Fortress 2                                175996.3\n",
       "Counter-Strike                                 135117.1\n",
       "Sid Meier's Civilization V                     100417.3\n",
       "Counter-Strike Source                           97053.5\n",
       "The Elder Scrolls V Skyrim                      71605.3\n",
       "Garry's Mod                                     50456.3\n",
       "Call of Duty Modern Warfare 2 - Multiplayer     42352.9\n",
       "Left 4 Dead 2                                   34547.7\n",
       "Name: Hourplayed, dtype: float64"
      ]
     },
     "execution_count": 13,
     "metadata": {},
     "output_type": "execute_result"
    }
   ],
   "source": [
    "# Top 10 most played games\n",
    "sum1 = data.groupby('Game_name')['Hourplayed'].sum().nlargest(10)\n",
    "sum1"
   ]
  },
  {
   "cell_type": "code",
   "execution_count": 14,
   "id": "f6390eff-1d55-4511-8a5e-1c3ff369d043",
   "metadata": {},
   "outputs": [
    {
     "data": {
      "image/png": "[encoded data removed]",
      "text/plain": [
       "<Figure size 1300x400 with 1 Axes>"
      ]
     },
     "metadata": {},
     "output_type": "display_data"
    }
   ],
   "source": [
    "plt.figure(figsize =(13,4))\n",
    "sum1.plot(kind='bar',color=sns.color_palette(\"Set2\"))\n",
    "plt.title('Top 10 Highest playing time', fontsize = 20)\n",
    "plt.xlabel(' Game name', fontsize = 14)\n",
    "plt.ylabel('Total hours played', fontsize =14)\n",
    "plt.xticks(rotation = 45)\n",
    "plt.show()\n"
   ]
  },
  {
   "cell_type": "code",
   "execution_count": 15,
   "id": "01bf08ec-f884-4cee-aaf7-dbc33181bd0e",
   "metadata": {},
   "outputs": [
    {
     "data": {
      "text/plain": [
       "Game_status\n",
       "play        3445365.8\n",
       "purchase     128803.0\n",
       "Name: Hourplayed, dtype: float64"
      ]
     },
     "execution_count": 15,
     "metadata": {},
     "output_type": "execute_result"
    }
   ],
   "source": [
    "sum2 = data.groupby('Game_status')['Hourplayed'].sum()\n",
    "sum2"
   ]
  },
  {
   "cell_type": "code",
   "execution_count": 16,
   "id": "9e51278b-1f24-4644-9521-2b5afa5f9185",
   "metadata": {},
   "outputs": [
    {
     "data": {
      "image/png": "[encoded data removed]",
      "text/plain": [
       "<Figure size 640x480 with 1 Axes>"
      ]
     },
     "metadata": {},
     "output_type": "display_data"
    }
   ],
   "source": [
    "sum2.plot(kind='pie', color=sns.color_palette(\"Set2\"), autopct = '%1.1f%%')\n",
    "plt.title('Distribution of Hours played', fontsize = 22)\n",
    "plt.show()"
   ]
  },
  {
   "cell_type": "code",
   "execution_count": 17,
   "id": "3873f72f-d9da-45b4-9041-7c27808a5aef",
   "metadata": {},
   "outputs": [
    {
     "data": {
      "text/plain": [
       "Game_status\n",
       "purchase    128803\n",
       "play         70489\n",
       "Name: count, dtype: int64"
      ]
     },
     "execution_count": 17,
     "metadata": {},
     "output_type": "execute_result"
    }
   ],
   "source": [
    "data['Game_status'].value_counts()"
   ]
  },
  {
   "cell_type": "code",
   "execution_count": 18,
   "id": "9ef65777-3b2d-482c-aaa8-95103062caae",
   "metadata": {},
   "outputs": [
    {
     "data": {
      "image/png": "[encoded data removed]",
      "text/plain": [
       "<Figure size 640x480 with 1 Axes>"
      ]
     },
     "metadata": {},
     "output_type": "display_data"
    }
   ],
   "source": [
    "labelling = ['purchase', 'play']\n",
    "plt.pie(data['Game_status'].value_counts(), labels = labelling, autopct = '%1.1f%%')\n",
    "plt.title('Distribution of Game status', fontsize = 18)\n",
    "plt.show()"
   ]
  },
  {
   "cell_type": "markdown",
   "id": "04e37929-0f21-4c5c-80cd-eac2f2244cdd",
   "metadata": {},
   "source": [
    "## We will filter out users that only played a game less than 2 hours (for accuracy)"
   ]
  },
  {
   "cell_type": "code",
   "execution_count": 19,
   "id": "674fc13d-87e0-4505-9cf2-562156a58b18",
   "metadata": {},
   "outputs": [
    {
     "name": "stdout",
     "output_type": "stream",
     "text": [
      "Before filtering 199292\n"
     ]
    }
   ],
   "source": [
    "b = data['Hourplayed'].value_counts().sum()        # Before filtering\n",
    "print( f'Before filtering {b}')"
   ]
  },
  {
   "cell_type": "code",
   "execution_count": 20,
   "id": "333bd3bf-edd8-471a-9c17-7d1e7bb51b80",
   "metadata": {},
   "outputs": [
    {
     "name": "stdout",
     "output_type": "stream",
     "text": [
      "After filtering 45535\n"
     ]
    }
   ],
   "source": [
    "data = data[(data['Hourplayed']>=2) & (data['Game_status'] == 'play')] \n",
    "a = data['Hourplayed'].value_counts().sum()         # After filtering\n",
    "print( f'After filtering {a}')"
   ]
  },
  {
   "cell_type": "code",
   "execution_count": 21,
   "id": "3fe50586-3c3a-431a-b5b0-fb15b62483b7",
   "metadata": {},
   "outputs": [],
   "source": [
    "average = data.groupby(['Game_name'])['Hourplayed'].mean()\n",
    "average = pd.DataFrame(average)\n",
    "average.rename(columns = {'Hourplayed':'Avg_Hourplayed'},inplace =True)"
   ]
  },
  {
   "cell_type": "code",
   "execution_count": 22,
   "id": "92457d78-b258-46a8-8d95-262c6f15b54d",
   "metadata": {},
   "outputs": [
    {
     "data": {
      "text/html": [
       "<div>\n",
       "<style scoped>\n",
       "    .dataframe tbody tr th:only-of-type {\n",
       "        vertical-align: middle;\n",
       "    }\n",
       "\n",
       "    .dataframe tbody tr th {\n",
       "        vertical-align: top;\n",
       "    }\n",
       "\n",
       "    .dataframe thead th {\n",
       "        text-align: right;\n",
       "    }\n",
       "</style>\n",
       "<table border=\"1\" class=\"dataframe\">\n",
       "  <thead>\n",
       "    <tr style=\"text-align: right;\">\n",
       "      <th></th>\n",
       "      <th>Avg_Hourplayed</th>\n",
       "    </tr>\n",
       "    <tr>\n",
       "      <th>Game_name</th>\n",
       "      <th></th>\n",
       "    </tr>\n",
       "  </thead>\n",
       "  <tbody>\n",
       "    <tr>\n",
       "      <th>1... 2... 3... KICK IT! (Drop That Beat Like an Ugly Baby)</th>\n",
       "      <td>6.20</td>\n",
       "    </tr>\n",
       "    <tr>\n",
       "      <th>10 Second Ninja</th>\n",
       "      <td>5.40</td>\n",
       "    </tr>\n",
       "    <tr>\n",
       "      <th>10,000,000</th>\n",
       "      <td>3.60</td>\n",
       "    </tr>\n",
       "    <tr>\n",
       "      <th>100% Orange Juice</th>\n",
       "      <td>17.90</td>\n",
       "    </tr>\n",
       "    <tr>\n",
       "      <th>12 Labours of Hercules</th>\n",
       "      <td>5.75</td>\n",
       "    </tr>\n",
       "  </tbody>\n",
       "</table>\n",
       "</div>"
      ],
      "text/plain": [
       "                                                    Avg_Hourplayed\n",
       "Game_name                                                         \n",
       "1... 2... 3... KICK IT! (Drop That Beat Like an...            6.20\n",
       "10 Second Ninja                                               5.40\n",
       "10,000,000                                                    3.60\n",
       "100% Orange Juice                                            17.90\n",
       "12 Labours of Hercules                                        5.75"
      ]
     },
     "execution_count": 22,
     "metadata": {},
     "output_type": "execute_result"
    }
   ],
   "source": [
    "average.head()"
   ]
  },
  {
   "cell_type": "code",
   "execution_count": 23,
   "id": "b555eeb9-101c-4ad4-bab4-a91435e06b72",
   "metadata": {},
   "outputs": [
    {
     "data": {
      "text/html": [
       "<div>\n",
       "<style scoped>\n",
       "    .dataframe tbody tr th:only-of-type {\n",
       "        vertical-align: middle;\n",
       "    }\n",
       "\n",
       "    .dataframe tbody tr th {\n",
       "        vertical-align: top;\n",
       "    }\n",
       "\n",
       "    .dataframe thead th {\n",
       "        text-align: right;\n",
       "    }\n",
       "</style>\n",
       "<table border=\"1\" class=\"dataframe\">\n",
       "  <thead>\n",
       "    <tr style=\"text-align: right;\">\n",
       "      <th></th>\n",
       "      <th>Game_id</th>\n",
       "      <th>Game_name</th>\n",
       "      <th>Game_status</th>\n",
       "      <th>Hourplayed</th>\n",
       "      <th>Avg_Hourplayed</th>\n",
       "    </tr>\n",
       "  </thead>\n",
       "  <tbody>\n",
       "    <tr>\n",
       "      <th>0</th>\n",
       "      <td>151603712</td>\n",
       "      <td>The Elder Scrolls V Skyrim</td>\n",
       "      <td>play</td>\n",
       "      <td>273.0</td>\n",
       "      <td>115.351792</td>\n",
       "    </tr>\n",
       "    <tr>\n",
       "      <th>1</th>\n",
       "      <td>151603712</td>\n",
       "      <td>Fallout 4</td>\n",
       "      <td>play</td>\n",
       "      <td>87.0</td>\n",
       "      <td>66.819876</td>\n",
       "    </tr>\n",
       "    <tr>\n",
       "      <th>2</th>\n",
       "      <td>151603712</td>\n",
       "      <td>Spore</td>\n",
       "      <td>play</td>\n",
       "      <td>14.9</td>\n",
       "      <td>37.708889</td>\n",
       "    </tr>\n",
       "    <tr>\n",
       "      <th>3</th>\n",
       "      <td>151603712</td>\n",
       "      <td>Fallout New Vegas</td>\n",
       "      <td>play</td>\n",
       "      <td>12.1</td>\n",
       "      <td>62.910638</td>\n",
       "    </tr>\n",
       "    <tr>\n",
       "      <th>4</th>\n",
       "      <td>151603712</td>\n",
       "      <td>Left 4 Dead 2</td>\n",
       "      <td>play</td>\n",
       "      <td>8.9</td>\n",
       "      <td>50.333684</td>\n",
       "    </tr>\n",
       "    <tr>\n",
       "      <th>...</th>\n",
       "      <td>...</td>\n",
       "      <td>...</td>\n",
       "      <td>...</td>\n",
       "      <td>...</td>\n",
       "      <td>...</td>\n",
       "    </tr>\n",
       "    <tr>\n",
       "      <th>45530</th>\n",
       "      <td>128470551</td>\n",
       "      <td>Nether</td>\n",
       "      <td>play</td>\n",
       "      <td>2.8</td>\n",
       "      <td>13.705556</td>\n",
       "    </tr>\n",
       "    <tr>\n",
       "      <th>45531</th>\n",
       "      <td>128470551</td>\n",
       "      <td>Rogue Legacy</td>\n",
       "      <td>play</td>\n",
       "      <td>2.6</td>\n",
       "      <td>18.191489</td>\n",
       "    </tr>\n",
       "    <tr>\n",
       "      <th>45532</th>\n",
       "      <td>128470551</td>\n",
       "      <td>Mortal Kombat Komplete Edition</td>\n",
       "      <td>play</td>\n",
       "      <td>2.5</td>\n",
       "      <td>28.962222</td>\n",
       "    </tr>\n",
       "    <tr>\n",
       "      <th>45533</th>\n",
       "      <td>128470551</td>\n",
       "      <td>Fallen Earth</td>\n",
       "      <td>play</td>\n",
       "      <td>2.4</td>\n",
       "      <td>124.770000</td>\n",
       "    </tr>\n",
       "    <tr>\n",
       "      <th>45534</th>\n",
       "      <td>128470551</td>\n",
       "      <td>Magic Duels</td>\n",
       "      <td>play</td>\n",
       "      <td>2.2</td>\n",
       "      <td>19.847619</td>\n",
       "    </tr>\n",
       "  </tbody>\n",
       "</table>\n",
       "<p>45535 rows × 5 columns</p>\n",
       "</div>"
      ],
      "text/plain": [
       "         Game_id                       Game_name Game_status  Hourplayed  \\\n",
       "0      151603712      The Elder Scrolls V Skyrim        play       273.0   \n",
       "1      151603712                       Fallout 4        play        87.0   \n",
       "2      151603712                           Spore        play        14.9   \n",
       "3      151603712               Fallout New Vegas        play        12.1   \n",
       "4      151603712                   Left 4 Dead 2        play         8.9   \n",
       "...          ...                             ...         ...         ...   \n",
       "45530  128470551                          Nether        play         2.8   \n",
       "45531  128470551                    Rogue Legacy        play         2.6   \n",
       "45532  128470551  Mortal Kombat Komplete Edition        play         2.5   \n",
       "45533  128470551                    Fallen Earth        play         2.4   \n",
       "45534  128470551                     Magic Duels        play         2.2   \n",
       "\n",
       "       Avg_Hourplayed  \n",
       "0          115.351792  \n",
       "1           66.819876  \n",
       "2           37.708889  \n",
       "3           62.910638  \n",
       "4           50.333684  \n",
       "...               ...  \n",
       "45530       13.705556  \n",
       "45531       18.191489  \n",
       "45532       28.962222  \n",
       "45533      124.770000  \n",
       "45534       19.847619  \n",
       "\n",
       "[45535 rows x 5 columns]"
      ]
     },
     "execution_count": 23,
     "metadata": {},
     "output_type": "execute_result"
    }
   ],
   "source": [
    "data = data.merge(average,on = 'Game_name')\n",
    "data"
   ]
  },
  {
   "cell_type": "markdown",
   "id": "1f57f6b5-07a5-4186-a4bd-b16a3e4126e6",
   "metadata": {},
   "source": [
    "### We will add another column for simplicity... A 'Rating' column....We make use of pd.cut"
   ]
  },
  {
   "cell_type": "code",
   "execution_count": 24,
   "id": "31280e1c-0597-417c-b202-5572aeef5b4c",
   "metadata": {},
   "outputs": [],
   "source": [
    " #Define the bins and labels\n",
    "bins = [-float('inf'), 0.2, 0.4, 0.6, 0.8, float('inf')]           # Define the ranges for categorization.\n",
    "labelling = [1, 2, 3, 4, 5]                                           # rating values you assign for each bin or range.\n",
    "\n",
    "# Create the 'rating' column\n",
    "data['Rating'] = pd.cut(data['Hourplayed'] / data['Avg_Hourplayed'], bins=bins, labels=labelling, right=False).astype(int)"
   ]
  },
  {
   "cell_type": "code",
   "execution_count": 25,
   "id": "2158dea5-5037-4e48-840b-bf582b788aaf",
   "metadata": {},
   "outputs": [
    {
     "data": {
      "text/html": [
       "<div>\n",
       "<style scoped>\n",
       "    .dataframe tbody tr th:only-of-type {\n",
       "        vertical-align: middle;\n",
       "    }\n",
       "\n",
       "    .dataframe tbody tr th {\n",
       "        vertical-align: top;\n",
       "    }\n",
       "\n",
       "    .dataframe thead th {\n",
       "        text-align: right;\n",
       "    }\n",
       "</style>\n",
       "<table border=\"1\" class=\"dataframe\">\n",
       "  <thead>\n",
       "    <tr style=\"text-align: right;\">\n",
       "      <th></th>\n",
       "      <th>Game_id</th>\n",
       "      <th>Game_name</th>\n",
       "      <th>Game_status</th>\n",
       "      <th>Hourplayed</th>\n",
       "      <th>Avg_Hourplayed</th>\n",
       "      <th>Rating</th>\n",
       "    </tr>\n",
       "  </thead>\n",
       "  <tbody>\n",
       "    <tr>\n",
       "      <th>0</th>\n",
       "      <td>151603712</td>\n",
       "      <td>The Elder Scrolls V Skyrim</td>\n",
       "      <td>play</td>\n",
       "      <td>273.0</td>\n",
       "      <td>115.351792</td>\n",
       "      <td>5</td>\n",
       "    </tr>\n",
       "    <tr>\n",
       "      <th>1</th>\n",
       "      <td>151603712</td>\n",
       "      <td>Fallout 4</td>\n",
       "      <td>play</td>\n",
       "      <td>87.0</td>\n",
       "      <td>66.819876</td>\n",
       "      <td>5</td>\n",
       "    </tr>\n",
       "    <tr>\n",
       "      <th>2</th>\n",
       "      <td>151603712</td>\n",
       "      <td>Spore</td>\n",
       "      <td>play</td>\n",
       "      <td>14.9</td>\n",
       "      <td>37.708889</td>\n",
       "      <td>2</td>\n",
       "    </tr>\n",
       "    <tr>\n",
       "      <th>3</th>\n",
       "      <td>151603712</td>\n",
       "      <td>Fallout New Vegas</td>\n",
       "      <td>play</td>\n",
       "      <td>12.1</td>\n",
       "      <td>62.910638</td>\n",
       "      <td>1</td>\n",
       "    </tr>\n",
       "    <tr>\n",
       "      <th>4</th>\n",
       "      <td>151603712</td>\n",
       "      <td>Left 4 Dead 2</td>\n",
       "      <td>play</td>\n",
       "      <td>8.9</td>\n",
       "      <td>50.333684</td>\n",
       "      <td>1</td>\n",
       "    </tr>\n",
       "  </tbody>\n",
       "</table>\n",
       "</div>"
      ],
      "text/plain": [
       "     Game_id                   Game_name Game_status  Hourplayed  \\\n",
       "0  151603712  The Elder Scrolls V Skyrim        play       273.0   \n",
       "1  151603712                   Fallout 4        play        87.0   \n",
       "2  151603712                       Spore        play        14.9   \n",
       "3  151603712           Fallout New Vegas        play        12.1   \n",
       "4  151603712               Left 4 Dead 2        play         8.9   \n",
       "\n",
       "   Avg_Hourplayed  Rating  \n",
       "0      115.351792       5  \n",
       "1       66.819876       5  \n",
       "2       37.708889       2  \n",
       "3       62.910638       1  \n",
       "4       50.333684       1  "
      ]
     },
     "execution_count": 25,
     "metadata": {},
     "output_type": "execute_result"
    }
   ],
   "source": [
    "data.head()"
   ]
  },
  {
   "cell_type": "code",
   "execution_count": 26,
   "id": "29499882-388c-4c22-ba94-49bde798973a",
   "metadata": {},
   "outputs": [
    {
     "data": {
      "text/html": [
       "<div>\n",
       "<style scoped>\n",
       "    .dataframe tbody tr th:only-of-type {\n",
       "        vertical-align: middle;\n",
       "    }\n",
       "\n",
       "    .dataframe tbody tr th {\n",
       "        vertical-align: top;\n",
       "    }\n",
       "\n",
       "    .dataframe thead th {\n",
       "        text-align: right;\n",
       "    }\n",
       "</style>\n",
       "<table border=\"1\" class=\"dataframe\">\n",
       "  <thead>\n",
       "    <tr style=\"text-align: right;\">\n",
       "      <th></th>\n",
       "      <th>Rating</th>\n",
       "    </tr>\n",
       "    <tr>\n",
       "      <th>Game_name</th>\n",
       "      <th></th>\n",
       "    </tr>\n",
       "  </thead>\n",
       "  <tbody>\n",
       "    <tr>\n",
       "      <th>1... 2... 3... KICK IT! (Drop That Beat Like an Ugly Baby)</th>\n",
       "      <td>4.0</td>\n",
       "    </tr>\n",
       "    <tr>\n",
       "      <th>10 Second Ninja</th>\n",
       "      <td>5.0</td>\n",
       "    </tr>\n",
       "    <tr>\n",
       "      <th>10,000,000</th>\n",
       "      <td>5.0</td>\n",
       "    </tr>\n",
       "    <tr>\n",
       "      <th>100% Orange Juice</th>\n",
       "      <td>3.0</td>\n",
       "    </tr>\n",
       "    <tr>\n",
       "      <th>12 Labours of Hercules</th>\n",
       "      <td>4.5</td>\n",
       "    </tr>\n",
       "  </tbody>\n",
       "</table>\n",
       "</div>"
      ],
      "text/plain": [
       "                                                    Rating\n",
       "Game_name                                                 \n",
       "1... 2... 3... KICK IT! (Drop That Beat Like an...     4.0\n",
       "10 Second Ninja                                        5.0\n",
       "10,000,000                                             5.0\n",
       "100% Orange Juice                                      3.0\n",
       "12 Labours of Hercules                                 4.5"
      ]
     },
     "execution_count": 26,
     "metadata": {},
     "output_type": "execute_result"
    }
   ],
   "source": [
    "# To find the average rating of the games...(in a new DataFrame)\n",
    "final_data = pd.DataFrame(data.groupby('Game_name')['Rating'].mean())\n",
    "final_data.head()"
   ]
  },
  {
   "cell_type": "markdown",
   "id": "49359909-49af-4b36-a976-8ce835d9d540",
   "metadata": {},
   "source": [
    "### We will add a new column (number of ratings) to our final dataset"
   ]
  },
  {
   "cell_type": "code",
   "execution_count": 27,
   "id": "7415a354-372a-4e3f-94d9-7dee018d508a",
   "metadata": {},
   "outputs": [
    {
     "data": {
      "text/html": [
       "<div>\n",
       "<style scoped>\n",
       "    .dataframe tbody tr th:only-of-type {\n",
       "        vertical-align: middle;\n",
       "    }\n",
       "\n",
       "    .dataframe tbody tr th {\n",
       "        vertical-align: top;\n",
       "    }\n",
       "\n",
       "    .dataframe thead th {\n",
       "        text-align: right;\n",
       "    }\n",
       "</style>\n",
       "<table border=\"1\" class=\"dataframe\">\n",
       "  <thead>\n",
       "    <tr style=\"text-align: right;\">\n",
       "      <th></th>\n",
       "      <th>Rating</th>\n",
       "      <th>No of Ratings</th>\n",
       "    </tr>\n",
       "    <tr>\n",
       "      <th>Game_name</th>\n",
       "      <th></th>\n",
       "      <th></th>\n",
       "    </tr>\n",
       "  </thead>\n",
       "  <tbody>\n",
       "    <tr>\n",
       "      <th>1... 2... 3... KICK IT! (Drop That Beat Like an Ugly Baby)</th>\n",
       "      <td>4.0</td>\n",
       "      <td>3</td>\n",
       "    </tr>\n",
       "    <tr>\n",
       "      <th>10 Second Ninja</th>\n",
       "      <td>5.0</td>\n",
       "      <td>1</td>\n",
       "    </tr>\n",
       "    <tr>\n",
       "      <th>10,000,000</th>\n",
       "      <td>5.0</td>\n",
       "      <td>1</td>\n",
       "    </tr>\n",
       "    <tr>\n",
       "      <th>100% Orange Juice</th>\n",
       "      <td>3.0</td>\n",
       "      <td>4</td>\n",
       "    </tr>\n",
       "    <tr>\n",
       "      <th>12 Labours of Hercules</th>\n",
       "      <td>4.5</td>\n",
       "      <td>6</td>\n",
       "    </tr>\n",
       "  </tbody>\n",
       "</table>\n",
       "</div>"
      ],
      "text/plain": [
       "                                                    Rating  No of Ratings\n",
       "Game_name                                                                \n",
       "1... 2... 3... KICK IT! (Drop That Beat Like an...     4.0              3\n",
       "10 Second Ninja                                        5.0              1\n",
       "10,000,000                                             5.0              1\n",
       "100% Orange Juice                                      3.0              4\n",
       "12 Labours of Hercules                                 4.5              6"
      ]
     },
     "execution_count": 27,
     "metadata": {},
     "output_type": "execute_result"
    }
   ],
   "source": [
    "# We will add a new column (number of ratings) to our dataset\n",
    "final_data['No of Ratings'] = pd.DataFrame(data.groupby('Game_name')['Rating'].count())   # We have added 'No of ratings' to the dataset\n",
    "final_data.head()"
   ]
  },
  {
   "cell_type": "code",
   "execution_count": 28,
   "id": "df1254b4-72d0-4117-8ff5-396fc10a449a",
   "metadata": {},
   "outputs": [],
   "source": [
    "# Removing unnneccesary columns from our our first dataset\n",
    "data.drop(['Game_status','Hourplayed','Avg_Hourplayed'],axis = 1, inplace = True)"
   ]
  },
  {
   "cell_type": "code",
   "execution_count": 29,
   "id": "f4c096d9-6d74-4756-86b5-3ce0aece4d5c",
   "metadata": {},
   "outputs": [
    {
     "data": {
      "text/html": [
       "<div>\n",
       "<style scoped>\n",
       "    .dataframe tbody tr th:only-of-type {\n",
       "        vertical-align: middle;\n",
       "    }\n",
       "\n",
       "    .dataframe tbody tr th {\n",
       "        vertical-align: top;\n",
       "    }\n",
       "\n",
       "    .dataframe thead th {\n",
       "        text-align: right;\n",
       "    }\n",
       "</style>\n",
       "<table border=\"1\" class=\"dataframe\">\n",
       "  <thead>\n",
       "    <tr style=\"text-align: right;\">\n",
       "      <th></th>\n",
       "      <th>Game_id</th>\n",
       "      <th>Game_name</th>\n",
       "      <th>Rating</th>\n",
       "    </tr>\n",
       "  </thead>\n",
       "  <tbody>\n",
       "    <tr>\n",
       "      <th>0</th>\n",
       "      <td>151603712</td>\n",
       "      <td>The Elder Scrolls V Skyrim</td>\n",
       "      <td>5</td>\n",
       "    </tr>\n",
       "    <tr>\n",
       "      <th>1</th>\n",
       "      <td>151603712</td>\n",
       "      <td>Fallout 4</td>\n",
       "      <td>5</td>\n",
       "    </tr>\n",
       "    <tr>\n",
       "      <th>2</th>\n",
       "      <td>151603712</td>\n",
       "      <td>Spore</td>\n",
       "      <td>2</td>\n",
       "    </tr>\n",
       "    <tr>\n",
       "      <th>3</th>\n",
       "      <td>151603712</td>\n",
       "      <td>Fallout New Vegas</td>\n",
       "      <td>1</td>\n",
       "    </tr>\n",
       "    <tr>\n",
       "      <th>4</th>\n",
       "      <td>151603712</td>\n",
       "      <td>Left 4 Dead 2</td>\n",
       "      <td>1</td>\n",
       "    </tr>\n",
       "  </tbody>\n",
       "</table>\n",
       "</div>"
      ],
      "text/plain": [
       "     Game_id                   Game_name  Rating\n",
       "0  151603712  The Elder Scrolls V Skyrim       5\n",
       "1  151603712                   Fallout 4       5\n",
       "2  151603712                       Spore       2\n",
       "3  151603712           Fallout New Vegas       1\n",
       "4  151603712               Left 4 Dead 2       1"
      ]
     },
     "execution_count": 29,
     "metadata": {},
     "output_type": "execute_result"
    }
   ],
   "source": [
    "data.head()"
   ]
  },
  {
   "cell_type": "markdown",
   "id": "a4ac7dee-a4c2-488a-b21e-d73a09f16ac3",
   "metadata": {},
   "source": [
    "# Exploratory Data Analysis"
   ]
  },
  {
   "cell_type": "code",
   "execution_count": 30,
   "id": "efe5331b-6d21-48f5-a561-b78d9b00c4ab",
   "metadata": {},
   "outputs": [
    {
     "data": {
      "image/png": "[encoded data removed]",
      "text/plain": [
       "<Figure size 1100x400 with 1 Axes>"
      ]
     },
     "metadata": {},
     "output_type": "display_data"
    }
   ],
   "source": [
    "plt.figure(figsize=(11,4))\n",
    "plt.hist(final_data['Rating'], bins= 70)\n",
    "plt.title('Distribution of Game rating by Gamers', fontsize = 18)\n",
    "plt.xlabel('Game rating', fontsize = 12)\n",
    "plt.ylabel('No of Gamers', fontsize = 12)\n",
    "plt.show()"
   ]
  },
  {
   "cell_type": "code",
   "execution_count": 31,
   "id": "778170f6-c657-433b-a72a-2200841495ee",
   "metadata": {},
   "outputs": [
    {
     "data": {
      "image/png": "[encoded data removed]",
      "text/plain": [
       "<Figure size 600x600 with 3 Axes>"
      ]
     },
     "metadata": {},
     "output_type": "display_data"
    }
   ],
   "source": [
    "sns.jointplot(x = 'Rating', y = 'No of Ratings', data = final_data)\n",
    "plt.xlabel('No of Ratings', fontsize = 12)\n",
    "plt.ylabel('Total Rating', fontsize = 12)\n",
    "plt.show()"
   ]
  },
  {
   "cell_type": "code",
   "execution_count": 32,
   "id": "3237be06-2d2e-4da1-80df-73d869d6b01f",
   "metadata": {},
   "outputs": [
    {
     "data": {
      "text/html": [
       "<div>\n",
       "<style scoped>\n",
       "    .dataframe tbody tr th:only-of-type {\n",
       "        vertical-align: middle;\n",
       "    }\n",
       "\n",
       "    .dataframe tbody tr th {\n",
       "        vertical-align: top;\n",
       "    }\n",
       "\n",
       "    .dataframe thead th {\n",
       "        text-align: right;\n",
       "    }\n",
       "</style>\n",
       "<table border=\"1\" class=\"dataframe\">\n",
       "  <thead>\n",
       "    <tr style=\"text-align: right;\">\n",
       "      <th></th>\n",
       "      <th>Rating</th>\n",
       "      <th>No of Ratings</th>\n",
       "    </tr>\n",
       "    <tr>\n",
       "      <th>Game_name</th>\n",
       "      <th></th>\n",
       "      <th></th>\n",
       "    </tr>\n",
       "  </thead>\n",
       "  <tbody>\n",
       "    <tr>\n",
       "      <th>Dota 2</th>\n",
       "      <td>2.235459</td>\n",
       "      <td>3215</td>\n",
       "    </tr>\n",
       "    <tr>\n",
       "      <th>Team Fortress 2</th>\n",
       "      <td>2.183604</td>\n",
       "      <td>1476</td>\n",
       "    </tr>\n",
       "    <tr>\n",
       "      <th>Counter-Strike Global Offensive</th>\n",
       "      <td>2.749407</td>\n",
       "      <td>1265</td>\n",
       "    </tr>\n",
       "    <tr>\n",
       "      <th>Left 4 Dead 2</th>\n",
       "      <td>2.572932</td>\n",
       "      <td>665</td>\n",
       "    </tr>\n",
       "    <tr>\n",
       "      <th>Unturned</th>\n",
       "      <td>2.920852</td>\n",
       "      <td>657</td>\n",
       "    </tr>\n",
       "    <tr>\n",
       "      <th>The Elder Scrolls V Skyrim</th>\n",
       "      <td>3.037459</td>\n",
       "      <td>614</td>\n",
       "    </tr>\n",
       "    <tr>\n",
       "      <th>Garry's Mod</th>\n",
       "      <td>2.599297</td>\n",
       "      <td>569</td>\n",
       "    </tr>\n",
       "    <tr>\n",
       "      <th>Counter-Strike Source</th>\n",
       "      <td>2.359571</td>\n",
       "      <td>559</td>\n",
       "    </tr>\n",
       "    <tr>\n",
       "      <th>Sid Meier's Civilization V</th>\n",
       "      <td>2.389113</td>\n",
       "      <td>496</td>\n",
       "    </tr>\n",
       "    <tr>\n",
       "      <th>Counter-Strike</th>\n",
       "      <td>2.299492</td>\n",
       "      <td>394</td>\n",
       "    </tr>\n",
       "  </tbody>\n",
       "</table>\n",
       "</div>"
      ],
      "text/plain": [
       "                                   Rating  No of Ratings\n",
       "Game_name                                               \n",
       "Dota 2                           2.235459           3215\n",
       "Team Fortress 2                  2.183604           1476\n",
       "Counter-Strike Global Offensive  2.749407           1265\n",
       "Left 4 Dead 2                    2.572932            665\n",
       "Unturned                         2.920852            657\n",
       "The Elder Scrolls V Skyrim       3.037459            614\n",
       "Garry's Mod                      2.599297            569\n",
       "Counter-Strike Source            2.359571            559\n",
       "Sid Meier's Civilization V       2.389113            496\n",
       "Counter-Strike                   2.299492            394"
      ]
     },
     "execution_count": 32,
     "metadata": {},
     "output_type": "execute_result"
    }
   ],
   "source": [
    "# To see the most rated Games\n",
    "final_data.sort_values('No of Ratings', ascending = False) .head(10)"
   ]
  },
  {
   "cell_type": "code",
   "execution_count": 33,
   "id": "e70bb775-ec32-492f-9502-fb50919853fc",
   "metadata": {},
   "outputs": [
    {
     "data": {
      "image/png": "[encoded data removed]",
      "text/plain": [
       "<Figure size 1200x400 with 1 Axes>"
      ]
     },
     "metadata": {},
     "output_type": "display_data"
    }
   ],
   "source": [
    "plt.figure(figsize = (12,4))\n",
    "sns.barplot(x='Game_name', y = 'No of Ratings', hue = 'Game_name', data = final_data.sort_values('No of Ratings', ascending = False) .head(10))\n",
    "plt.title('Top 10 Most Rated games', fontsize = 20)\n",
    "plt.xlabel(' Game name', fontsize = 14)\n",
    "plt.ylabel('No of Rating', fontsize =14)\n",
    "plt.xticks(rotation = 45)\n",
    "plt.show()"
   ]
  },
  {
   "cell_type": "markdown",
   "id": "1d5336c0-db8e-4da8-9e54-4b22c48af24f",
   "metadata": {},
   "source": [
    "# **Data Preprocessing**"
   ]
  },
  {
   "cell_type": "markdown",
   "id": "7c84460a-0a9f-475c-9ba8-271d01670341",
   "metadata": {},
   "source": [
    "- We will create a table that has Game_id as index and all the Game name as column and the content is the 'Rating' of the Game by the user.  \n",
    "- NOTE: the Games that were not rated by user will have empty spaces (NaN)...."
   ]
  },
  {
   "cell_type": "code",
   "execution_count": 34,
   "id": "22f446ef-d615-4c34-80b3-d57b89cd0dee",
   "metadata": {},
   "outputs": [
    {
     "data": {
      "text/html": [
       "<div>\n",
       "<style scoped>\n",
       "    .dataframe tbody tr th:only-of-type {\n",
       "        vertical-align: middle;\n",
       "    }\n",
       "\n",
       "    .dataframe tbody tr th {\n",
       "        vertical-align: top;\n",
       "    }\n",
       "\n",
       "    .dataframe thead th {\n",
       "        text-align: right;\n",
       "    }\n",
       "</style>\n",
       "<table border=\"1\" class=\"dataframe\">\n",
       "  <thead>\n",
       "    <tr style=\"text-align: right;\">\n",
       "      <th>Game_name</th>\n",
       "      <th>1... 2... 3... KICK IT! (Drop That Beat Like an Ugly Baby)</th>\n",
       "      <th>10 Second Ninja</th>\n",
       "      <th>10,000,000</th>\n",
       "      <th>100% Orange Juice</th>\n",
       "      <th>12 Labours of Hercules</th>\n",
       "      <th>12 Labours of Hercules II The Cretan Bull</th>\n",
       "      <th>12 Labours of Hercules III Girl Power</th>\n",
       "      <th>140</th>\n",
       "      <th>16bit Trader</th>\n",
       "      <th>18 Wheels of Steel American Long Haul</th>\n",
       "      <th>...</th>\n",
       "      <th>iBomber Defense</th>\n",
       "      <th>iBomber Defense Pacific</th>\n",
       "      <th>ibb &amp; obb</th>\n",
       "      <th>liteCam Game 100 FPS Game Capture</th>\n",
       "      <th>rFactor</th>\n",
       "      <th>realMyst Masterpiece Edition</th>\n",
       "      <th>resident evil 4 / biohazard 4</th>\n",
       "      <th>sZone-Online</th>\n",
       "      <th>theHunter</th>\n",
       "      <th>theHunter Primal</th>\n",
       "    </tr>\n",
       "    <tr>\n",
       "      <th>Game_id</th>\n",
       "      <th></th>\n",
       "      <th></th>\n",
       "      <th></th>\n",
       "      <th></th>\n",
       "      <th></th>\n",
       "      <th></th>\n",
       "      <th></th>\n",
       "      <th></th>\n",
       "      <th></th>\n",
       "      <th></th>\n",
       "      <th></th>\n",
       "      <th></th>\n",
       "      <th></th>\n",
       "      <th></th>\n",
       "      <th></th>\n",
       "      <th></th>\n",
       "      <th></th>\n",
       "      <th></th>\n",
       "      <th></th>\n",
       "      <th></th>\n",
       "      <th></th>\n",
       "    </tr>\n",
       "  </thead>\n",
       "  <tbody>\n",
       "    <tr>\n",
       "      <th>5250</th>\n",
       "      <td>NaN</td>\n",
       "      <td>NaN</td>\n",
       "      <td>NaN</td>\n",
       "      <td>NaN</td>\n",
       "      <td>NaN</td>\n",
       "      <td>NaN</td>\n",
       "      <td>NaN</td>\n",
       "      <td>NaN</td>\n",
       "      <td>NaN</td>\n",
       "      <td>NaN</td>\n",
       "      <td>...</td>\n",
       "      <td>NaN</td>\n",
       "      <td>NaN</td>\n",
       "      <td>NaN</td>\n",
       "      <td>NaN</td>\n",
       "      <td>NaN</td>\n",
       "      <td>NaN</td>\n",
       "      <td>NaN</td>\n",
       "      <td>NaN</td>\n",
       "      <td>NaN</td>\n",
       "      <td>NaN</td>\n",
       "    </tr>\n",
       "    <tr>\n",
       "      <th>76767</th>\n",
       "      <td>NaN</td>\n",
       "      <td>NaN</td>\n",
       "      <td>NaN</td>\n",
       "      <td>NaN</td>\n",
       "      <td>NaN</td>\n",
       "      <td>NaN</td>\n",
       "      <td>NaN</td>\n",
       "      <td>NaN</td>\n",
       "      <td>NaN</td>\n",
       "      <td>NaN</td>\n",
       "      <td>...</td>\n",
       "      <td>NaN</td>\n",
       "      <td>NaN</td>\n",
       "      <td>NaN</td>\n",
       "      <td>NaN</td>\n",
       "      <td>NaN</td>\n",
       "      <td>NaN</td>\n",
       "      <td>NaN</td>\n",
       "      <td>NaN</td>\n",
       "      <td>NaN</td>\n",
       "      <td>NaN</td>\n",
       "    </tr>\n",
       "    <tr>\n",
       "      <th>86540</th>\n",
       "      <td>NaN</td>\n",
       "      <td>NaN</td>\n",
       "      <td>NaN</td>\n",
       "      <td>NaN</td>\n",
       "      <td>NaN</td>\n",
       "      <td>NaN</td>\n",
       "      <td>NaN</td>\n",
       "      <td>NaN</td>\n",
       "      <td>NaN</td>\n",
       "      <td>NaN</td>\n",
       "      <td>...</td>\n",
       "      <td>NaN</td>\n",
       "      <td>NaN</td>\n",
       "      <td>NaN</td>\n",
       "      <td>NaN</td>\n",
       "      <td>NaN</td>\n",
       "      <td>NaN</td>\n",
       "      <td>NaN</td>\n",
       "      <td>NaN</td>\n",
       "      <td>NaN</td>\n",
       "      <td>NaN</td>\n",
       "    </tr>\n",
       "    <tr>\n",
       "      <th>229911</th>\n",
       "      <td>NaN</td>\n",
       "      <td>NaN</td>\n",
       "      <td>NaN</td>\n",
       "      <td>NaN</td>\n",
       "      <td>NaN</td>\n",
       "      <td>NaN</td>\n",
       "      <td>NaN</td>\n",
       "      <td>NaN</td>\n",
       "      <td>NaN</td>\n",
       "      <td>NaN</td>\n",
       "      <td>...</td>\n",
       "      <td>NaN</td>\n",
       "      <td>NaN</td>\n",
       "      <td>NaN</td>\n",
       "      <td>NaN</td>\n",
       "      <td>NaN</td>\n",
       "      <td>NaN</td>\n",
       "      <td>NaN</td>\n",
       "      <td>NaN</td>\n",
       "      <td>NaN</td>\n",
       "      <td>NaN</td>\n",
       "    </tr>\n",
       "    <tr>\n",
       "      <th>298950</th>\n",
       "      <td>NaN</td>\n",
       "      <td>NaN</td>\n",
       "      <td>NaN</td>\n",
       "      <td>NaN</td>\n",
       "      <td>NaN</td>\n",
       "      <td>NaN</td>\n",
       "      <td>NaN</td>\n",
       "      <td>NaN</td>\n",
       "      <td>NaN</td>\n",
       "      <td>NaN</td>\n",
       "      <td>...</td>\n",
       "      <td>NaN</td>\n",
       "      <td>NaN</td>\n",
       "      <td>NaN</td>\n",
       "      <td>NaN</td>\n",
       "      <td>NaN</td>\n",
       "      <td>NaN</td>\n",
       "      <td>NaN</td>\n",
       "      <td>NaN</td>\n",
       "      <td>NaN</td>\n",
       "      <td>NaN</td>\n",
       "    </tr>\n",
       "  </tbody>\n",
       "</table>\n",
       "<p>5 rows × 2800 columns</p>\n",
       "</div>"
      ],
      "text/plain": [
       "Game_name  1... 2... 3... KICK IT! (Drop That Beat Like an Ugly Baby)  \\\n",
       "Game_id                                                                 \n",
       "5250                                                     NaN            \n",
       "76767                                                    NaN            \n",
       "86540                                                    NaN            \n",
       "229911                                                   NaN            \n",
       "298950                                                   NaN            \n",
       "\n",
       "Game_name  10 Second Ninja  10,000,000  100% Orange Juice  \\\n",
       "Game_id                                                     \n",
       "5250                   NaN         NaN                NaN   \n",
       "76767                  NaN         NaN                NaN   \n",
       "86540                  NaN         NaN                NaN   \n",
       "229911                 NaN         NaN                NaN   \n",
       "298950                 NaN         NaN                NaN   \n",
       "\n",
       "Game_name  12 Labours of Hercules  12 Labours of Hercules II The Cretan Bull  \\\n",
       "Game_id                                                                        \n",
       "5250                          NaN                                        NaN   \n",
       "76767                         NaN                                        NaN   \n",
       "86540                         NaN                                        NaN   \n",
       "229911                        NaN                                        NaN   \n",
       "298950                        NaN                                        NaN   \n",
       "\n",
       "Game_name  12 Labours of Hercules III Girl Power  140  16bit Trader  \\\n",
       "Game_id                                                               \n",
       "5250                                         NaN  NaN           NaN   \n",
       "76767                                        NaN  NaN           NaN   \n",
       "86540                                        NaN  NaN           NaN   \n",
       "229911                                       NaN  NaN           NaN   \n",
       "298950                                       NaN  NaN           NaN   \n",
       "\n",
       "Game_name  18 Wheels of Steel American Long Haul  ...  iBomber Defense  \\\n",
       "Game_id                                           ...                    \n",
       "5250                                         NaN  ...              NaN   \n",
       "76767                                        NaN  ...              NaN   \n",
       "86540                                        NaN  ...              NaN   \n",
       "229911                                       NaN  ...              NaN   \n",
       "298950                                       NaN  ...              NaN   \n",
       "\n",
       "Game_name  iBomber Defense Pacific  ibb & obb  \\\n",
       "Game_id                                         \n",
       "5250                           NaN        NaN   \n",
       "76767                          NaN        NaN   \n",
       "86540                          NaN        NaN   \n",
       "229911                         NaN        NaN   \n",
       "298950                         NaN        NaN   \n",
       "\n",
       "Game_name  liteCam Game 100 FPS Game Capture  rFactor  \\\n",
       "Game_id                                                 \n",
       "5250                                     NaN      NaN   \n",
       "76767                                    NaN      NaN   \n",
       "86540                                    NaN      NaN   \n",
       "229911                                   NaN      NaN   \n",
       "298950                                   NaN      NaN   \n",
       "\n",
       "Game_name  realMyst Masterpiece Edition  resident evil 4 / biohazard 4  \\\n",
       "Game_id                                                                  \n",
       "5250                                NaN                            NaN   \n",
       "76767                               NaN                            NaN   \n",
       "86540                               NaN                            NaN   \n",
       "229911                              NaN                            NaN   \n",
       "298950                              NaN                            NaN   \n",
       "\n",
       "Game_name  sZone-Online  theHunter  theHunter Primal  \n",
       "Game_id                                               \n",
       "5250                NaN        NaN               NaN  \n",
       "76767               NaN        NaN               NaN  \n",
       "86540               NaN        NaN               NaN  \n",
       "229911              NaN        NaN               NaN  \n",
       "298950              NaN        NaN               NaN  \n",
       "\n",
       "[5 rows x 2800 columns]"
      ]
     },
     "execution_count": 34,
     "metadata": {},
     "output_type": "execute_result"
    }
   ],
   "source": [
    "gamelist = data.pivot_table(index='Game_id', columns = 'Game_name', values= 'Rating')\n",
    "gamelist.head()"
   ]
  },
  {
   "cell_type": "code",
   "execution_count": 35,
   "id": "5393e0ea-6738-43e7-a007-04aa09d390e2",
   "metadata": {},
   "outputs": [
    {
     "data": {
      "text/plain": [
       "Game_id\n",
       "5250         NaN\n",
       "76767        NaN\n",
       "86540        NaN\n",
       "229911       NaN\n",
       "298950       5.0\n",
       "            ... \n",
       "309255941    NaN\n",
       "309265377    NaN\n",
       "309404240    NaN\n",
       "309554670    NaN\n",
       "309626088    NaN\n",
       "Name: Fallout 4, Length: 8629, dtype: float64"
      ]
     },
     "execution_count": 35,
     "metadata": {},
     "output_type": "execute_result"
    }
   ],
   "source": [
    "fallout_4_rating = gamelist['Fallout 4']\n",
    "fallout_4_rating"
   ]
  },
  {
   "cell_type": "markdown",
   "id": "63bf191f-2ebb-42f3-81db-7d2bcc9de1e6",
   "metadata": {},
   "source": [
    "##  We have to get rid of those who have never played certain games in our outputs that is the Nan\\empty spaces."
   ]
  },
  {
   "cell_type": "code",
   "execution_count": 36,
   "id": "e67e690b-b0ac-4e5b-8f2a-65d07f0a3376",
   "metadata": {},
   "outputs": [
    {
     "name": "stderr",
     "output_type": "stream",
     "text": [
      "C:\\Users\\oshev\\AppData\\Local\\Programs\\Python\\Python311\\Lib\\site-packages\\numpy\\lib\\function_base.py:2889: RuntimeWarning: Degrees of freedom <= 0 for slice\n",
      "  c = cov(x, y, rowvar, dtype=dtype)\n",
      "C:\\Users\\oshev\\AppData\\Local\\Programs\\Python\\Python311\\Lib\\site-packages\\numpy\\lib\\function_base.py:2748: RuntimeWarning: divide by zero encountered in divide\n",
      "  c *= np.true_divide(1, fact)\n",
      "C:\\Users\\oshev\\AppData\\Local\\Programs\\Python\\Python311\\Lib\\site-packages\\numpy\\lib\\function_base.py:2748: RuntimeWarning: invalid value encountered in multiply\n",
      "  c *= np.true_divide(1, fact)\n",
      "C:\\Users\\oshev\\AppData\\Local\\Programs\\Python\\Python311\\Lib\\site-packages\\numpy\\lib\\function_base.py:2897: RuntimeWarning: invalid value encountered in divide\n",
      "  c /= stddev[:, None]\n",
      "C:\\Users\\oshev\\AppData\\Local\\Programs\\Python\\Python311\\Lib\\site-packages\\numpy\\lib\\function_base.py:2898: RuntimeWarning: invalid value encountered in divide\n",
      "  c /= stddev[None, :]\n"
     ]
    }
   ],
   "source": [
    "similiar = gamelist.corrwith(fallout_4_rating)    # The code will be an error because of the empty spaces in the dataset so we get rid of them"
   ]
  },
  {
   "cell_type": "code",
   "execution_count": 37,
   "id": "a65087f8-e0b0-4d48-bce2-f7704cc4cdb1",
   "metadata": {},
   "outputs": [
    {
     "data": {
      "text/html": [
       "<div>\n",
       "<style scoped>\n",
       "    .dataframe tbody tr th:only-of-type {\n",
       "        vertical-align: middle;\n",
       "    }\n",
       "\n",
       "    .dataframe tbody tr th {\n",
       "        vertical-align: top;\n",
       "    }\n",
       "\n",
       "    .dataframe thead th {\n",
       "        text-align: right;\n",
       "    }\n",
       "</style>\n",
       "<table border=\"1\" class=\"dataframe\">\n",
       "  <thead>\n",
       "    <tr style=\"text-align: right;\">\n",
       "      <th></th>\n",
       "      <th>Correlation</th>\n",
       "    </tr>\n",
       "    <tr>\n",
       "      <th>Game_name</th>\n",
       "      <th></th>\n",
       "    </tr>\n",
       "  </thead>\n",
       "  <tbody>\n",
       "    <tr>\n",
       "      <th>3DMark</th>\n",
       "      <td>-0.904534</td>\n",
       "    </tr>\n",
       "    <tr>\n",
       "      <th>7 Days to Die</th>\n",
       "      <td>-0.103853</td>\n",
       "    </tr>\n",
       "    <tr>\n",
       "      <th>APB Reloaded</th>\n",
       "      <td>0.653710</td>\n",
       "    </tr>\n",
       "    <tr>\n",
       "      <th>ARK Survival Evolved</th>\n",
       "      <td>0.215156</td>\n",
       "    </tr>\n",
       "    <tr>\n",
       "      <th>Ace of Spades</th>\n",
       "      <td>0.333333</td>\n",
       "    </tr>\n",
       "  </tbody>\n",
       "</table>\n",
       "</div>"
      ],
      "text/plain": [
       "                      Correlation\n",
       "Game_name                        \n",
       "3DMark                  -0.904534\n",
       "7 Days to Die           -0.103853\n",
       "APB Reloaded             0.653710\n",
       "ARK Survival Evolved     0.215156\n",
       "Ace of Spades            0.333333"
      ]
     },
     "execution_count": 37,
     "metadata": {},
     "output_type": "execute_result"
    }
   ],
   "source": [
    "# To remove the null values\\empty spaces\n",
    "corr_fallout_4 = pd.DataFrame(similiar, columns = ['Correlation'])   \n",
    "corr_fallout_4.dropna(inplace = True)\n",
    "corr_fallout_4.head()\n"
   ]
  },
  {
   "cell_type": "code",
   "execution_count": 38,
   "id": "003d912c-3af1-4fcb-9db4-b8012a7c6277",
   "metadata": {},
   "outputs": [
    {
     "data": {
      "text/html": [
       "<div>\n",
       "<style scoped>\n",
       "    .dataframe tbody tr th:only-of-type {\n",
       "        vertical-align: middle;\n",
       "    }\n",
       "\n",
       "    .dataframe tbody tr th {\n",
       "        vertical-align: top;\n",
       "    }\n",
       "\n",
       "    .dataframe thead th {\n",
       "        text-align: right;\n",
       "    }\n",
       "</style>\n",
       "<table border=\"1\" class=\"dataframe\">\n",
       "  <thead>\n",
       "    <tr style=\"text-align: right;\">\n",
       "      <th></th>\n",
       "      <th>Correlation</th>\n",
       "    </tr>\n",
       "    <tr>\n",
       "      <th>Game_name</th>\n",
       "      <th></th>\n",
       "    </tr>\n",
       "  </thead>\n",
       "  <tbody>\n",
       "    <tr>\n",
       "      <th>Demigod</th>\n",
       "      <td>1.0</td>\n",
       "    </tr>\n",
       "    <tr>\n",
       "      <th>Grand Theft Auto III</th>\n",
       "      <td>1.0</td>\n",
       "    </tr>\n",
       "    <tr>\n",
       "      <th>Heroes of Might &amp; Magic V</th>\n",
       "      <td>1.0</td>\n",
       "    </tr>\n",
       "    <tr>\n",
       "      <th>The Settlers 7 Paths to a Kingdom - Gold Edition</th>\n",
       "      <td>1.0</td>\n",
       "    </tr>\n",
       "    <tr>\n",
       "      <th>Reassembly</th>\n",
       "      <td>1.0</td>\n",
       "    </tr>\n",
       "    <tr>\n",
       "      <th>Take On Mars</th>\n",
       "      <td>1.0</td>\n",
       "    </tr>\n",
       "    <tr>\n",
       "      <th>Pro Evolution Soccer 2015</th>\n",
       "      <td>1.0</td>\n",
       "    </tr>\n",
       "    <tr>\n",
       "      <th>Crysis</th>\n",
       "      <td>1.0</td>\n",
       "    </tr>\n",
       "    <tr>\n",
       "      <th>Magic The Gathering - Duels of the Planeswalkers 2013</th>\n",
       "      <td>1.0</td>\n",
       "    </tr>\n",
       "    <tr>\n",
       "      <th>Ether One</th>\n",
       "      <td>1.0</td>\n",
       "    </tr>\n",
       "  </tbody>\n",
       "</table>\n",
       "</div>"
      ],
      "text/plain": [
       "                                                    Correlation\n",
       "Game_name                                                      \n",
       "Demigod                                                     1.0\n",
       "Grand Theft Auto III                                        1.0\n",
       "Heroes of Might & Magic V                                   1.0\n",
       "The Settlers 7 Paths to a Kingdom - Gold Edition            1.0\n",
       "Reassembly                                                  1.0\n",
       "Take On Mars                                                1.0\n",
       "Pro Evolution Soccer 2015                                   1.0\n",
       "Crysis                                                      1.0\n",
       "Magic The Gathering - Duels of the Planeswalker...          1.0\n",
       "Ether One                                                   1.0"
      ]
     },
     "execution_count": 38,
     "metadata": {},
     "output_type": "execute_result"
    }
   ],
   "source": [
    "corr_fallout_4.sort_values('Correlation', ascending = False).head(10) #Sorting values by correlation, displaying the top 10"
   ]
  },
  {
   "cell_type": "markdown",
   "id": "fd24d472-e945-493e-8783-2b3e5da0607a",
   "metadata": {},
   "source": [
    "### The correlation is 1.0 because there are users that only played fallout 4  and ONE other game"
   ]
  },
  {
   "cell_type": "code",
   "execution_count": 39,
   "id": "c786f58c-94f5-479a-8dac-bcbf23e424b3",
   "metadata": {},
   "outputs": [
    {
     "name": "stdout",
     "output_type": "stream",
     "text": [
      "We have 8629 Gamers\n",
      "We have 2800 different games\n"
     ]
    }
   ],
   "source": [
    "Gamers = data['Game_id'].nunique()\n",
    "Games = data['Game_name'].nunique()\n",
    "print(f'We have {Gamers} Gamers')\n",
    "print(f'We have {Games} different games')"
   ]
  },
  {
   "cell_type": "markdown",
   "id": "c4a00eab-6ed9-4fab-bb6c-62ef578f88f9",
   "metadata": {},
   "source": [
    "### We solve this by filtering out Games with less than 70 user ratings...(70 is okay becuase of the distribution of our dataset(visually seen in the histogram)"
   ]
  },
  {
   "cell_type": "code",
   "execution_count": 40,
   "id": "a5985cc2-88f6-4858-8f94-8ff8657d482c",
   "metadata": {},
   "outputs": [
    {
     "data": {
      "text/html": [
       "<div>\n",
       "<style scoped>\n",
       "    .dataframe tbody tr th:only-of-type {\n",
       "        vertical-align: middle;\n",
       "    }\n",
       "\n",
       "    .dataframe tbody tr th {\n",
       "        vertical-align: top;\n",
       "    }\n",
       "\n",
       "    .dataframe thead th {\n",
       "        text-align: right;\n",
       "    }\n",
       "</style>\n",
       "<table border=\"1\" class=\"dataframe\">\n",
       "  <thead>\n",
       "    <tr style=\"text-align: right;\">\n",
       "      <th></th>\n",
       "      <th>Correlation</th>\n",
       "      <th>No of Ratings</th>\n",
       "    </tr>\n",
       "    <tr>\n",
       "      <th>Game_name</th>\n",
       "      <th></th>\n",
       "      <th></th>\n",
       "    </tr>\n",
       "  </thead>\n",
       "  <tbody>\n",
       "    <tr>\n",
       "      <th>3DMark</th>\n",
       "      <td>-0.904534</td>\n",
       "      <td>10</td>\n",
       "    </tr>\n",
       "    <tr>\n",
       "      <th>7 Days to Die</th>\n",
       "      <td>-0.103853</td>\n",
       "      <td>80</td>\n",
       "    </tr>\n",
       "    <tr>\n",
       "      <th>APB Reloaded</th>\n",
       "      <td>0.653710</td>\n",
       "      <td>81</td>\n",
       "    </tr>\n",
       "    <tr>\n",
       "      <th>ARK Survival Evolved</th>\n",
       "      <td>0.215156</td>\n",
       "      <td>128</td>\n",
       "    </tr>\n",
       "    <tr>\n",
       "      <th>Ace of Spades</th>\n",
       "      <td>0.333333</td>\n",
       "      <td>46</td>\n",
       "    </tr>\n",
       "  </tbody>\n",
       "</table>\n",
       "</div>"
      ],
      "text/plain": [
       "                      Correlation  No of Ratings\n",
       "Game_name                                       \n",
       "3DMark                  -0.904534             10\n",
       "7 Days to Die           -0.103853             80\n",
       "APB Reloaded             0.653710             81\n",
       "ARK Survival Evolved     0.215156            128\n",
       "Ace of Spades            0.333333             46"
      ]
     },
     "execution_count": 40,
     "metadata": {},
     "output_type": "execute_result"
    }
   ],
   "source": [
    "# Add 'No of Ratings to the fallout_correlation set so we can sort and get the best matches\n",
    "corr_fallout_4 = corr_fallout_4.join(final_data['No of Ratings'])   # Another way of adding a column to a dataframe.\n",
    "corr_fallout_4.head()"
   ]
  },
  {
   "cell_type": "code",
   "execution_count": 41,
   "id": "c6cdc7f8-f4f4-4a86-8244-adc525c6f81a",
   "metadata": {},
   "outputs": [
    {
     "data": {
      "text/html": [
       "<div>\n",
       "<style scoped>\n",
       "    .dataframe tbody tr th:only-of-type {\n",
       "        vertical-align: middle;\n",
       "    }\n",
       "\n",
       "    .dataframe tbody tr th {\n",
       "        vertical-align: top;\n",
       "    }\n",
       "\n",
       "    .dataframe thead th {\n",
       "        text-align: right;\n",
       "    }\n",
       "</style>\n",
       "<table border=\"1\" class=\"dataframe\">\n",
       "  <thead>\n",
       "    <tr style=\"text-align: right;\">\n",
       "      <th></th>\n",
       "      <th>Correlation</th>\n",
       "      <th>No of Ratings</th>\n",
       "    </tr>\n",
       "    <tr>\n",
       "      <th>Game_name</th>\n",
       "      <th></th>\n",
       "      <th></th>\n",
       "    </tr>\n",
       "  </thead>\n",
       "  <tbody>\n",
       "    <tr>\n",
       "      <th>7 Days to Die</th>\n",
       "      <td>-0.103853</td>\n",
       "      <td>80</td>\n",
       "    </tr>\n",
       "    <tr>\n",
       "      <th>APB Reloaded</th>\n",
       "      <td>0.653710</td>\n",
       "      <td>81</td>\n",
       "    </tr>\n",
       "    <tr>\n",
       "      <th>ARK Survival Evolved</th>\n",
       "      <td>0.215156</td>\n",
       "      <td>128</td>\n",
       "    </tr>\n",
       "    <tr>\n",
       "      <th>AdVenture Capitalist</th>\n",
       "      <td>-0.654171</td>\n",
       "      <td>89</td>\n",
       "    </tr>\n",
       "    <tr>\n",
       "      <th>Age of Empires II HD Edition</th>\n",
       "      <td>-0.284561</td>\n",
       "      <td>164</td>\n",
       "    </tr>\n",
       "  </tbody>\n",
       "</table>\n",
       "</div>"
      ],
      "text/plain": [
       "                              Correlation  No of Ratings\n",
       "Game_name                                               \n",
       "7 Days to Die                   -0.103853             80\n",
       "APB Reloaded                     0.653710             81\n",
       "ARK Survival Evolved             0.215156            128\n",
       "AdVenture Capitalist            -0.654171             89\n",
       "Age of Empires II HD Edition    -0.284561            164"
      ]
     },
     "execution_count": 41,
     "metadata": {},
     "output_type": "execute_result"
    }
   ],
   "source": [
    "# To filter games that have less than 90 user ratings for accuracy\n",
    "recommend = corr_fallout_4[corr_fallout_4['No of Ratings']>70]\n",
    "recommend.head()"
   ]
  },
  {
   "cell_type": "code",
   "execution_count": 42,
   "id": "96608a09-2c4b-46ac-bfa0-1c6d6afccff8",
   "metadata": {},
   "outputs": [
    {
     "name": "stdout",
     "output_type": "stream",
     "text": [
      "The Top 6 recommendation for Fallout 4 are shown below: \n"
     ]
    },
    {
     "data": {
      "text/html": [
       "<div>\n",
       "<style scoped>\n",
       "    .dataframe tbody tr th:only-of-type {\n",
       "        vertical-align: middle;\n",
       "    }\n",
       "\n",
       "    .dataframe tbody tr th {\n",
       "        vertical-align: top;\n",
       "    }\n",
       "\n",
       "    .dataframe thead th {\n",
       "        text-align: right;\n",
       "    }\n",
       "</style>\n",
       "<table border=\"1\" class=\"dataframe\">\n",
       "  <thead>\n",
       "    <tr style=\"text-align: right;\">\n",
       "      <th></th>\n",
       "      <th>Correlation</th>\n",
       "      <th>No of Ratings</th>\n",
       "    </tr>\n",
       "    <tr>\n",
       "      <th>Game_name</th>\n",
       "      <th></th>\n",
       "      <th></th>\n",
       "    </tr>\n",
       "  </thead>\n",
       "  <tbody>\n",
       "    <tr>\n",
       "      <th>Fallout 4</th>\n",
       "      <td>1.000000</td>\n",
       "      <td>161</td>\n",
       "    </tr>\n",
       "    <tr>\n",
       "      <th>APB Reloaded</th>\n",
       "      <td>0.653710</td>\n",
       "      <td>81</td>\n",
       "    </tr>\n",
       "    <tr>\n",
       "      <th>Mafia II</th>\n",
       "      <td>0.639517</td>\n",
       "      <td>97</td>\n",
       "    </tr>\n",
       "    <tr>\n",
       "      <th>Neverwinter</th>\n",
       "      <td>0.622807</td>\n",
       "      <td>100</td>\n",
       "    </tr>\n",
       "    <tr>\n",
       "      <th>Robocraft</th>\n",
       "      <td>0.596462</td>\n",
       "      <td>241</td>\n",
       "    </tr>\n",
       "    <tr>\n",
       "      <th>Starbound</th>\n",
       "      <td>0.536545</td>\n",
       "      <td>117</td>\n",
       "    </tr>\n",
       "    <tr>\n",
       "      <th>Heroes &amp; Generals</th>\n",
       "      <td>0.502345</td>\n",
       "      <td>136</td>\n",
       "    </tr>\n",
       "    <tr>\n",
       "      <th>The Walking Dead</th>\n",
       "      <td>0.489771</td>\n",
       "      <td>94</td>\n",
       "    </tr>\n",
       "    <tr>\n",
       "      <th>Arma 3</th>\n",
       "      <td>0.489357</td>\n",
       "      <td>144</td>\n",
       "    </tr>\n",
       "    <tr>\n",
       "      <th>Dishonored</th>\n",
       "      <td>0.479291</td>\n",
       "      <td>119</td>\n",
       "    </tr>\n",
       "  </tbody>\n",
       "</table>\n",
       "</div>"
      ],
      "text/plain": [
       "                   Correlation  No of Ratings\n",
       "Game_name                                    \n",
       "Fallout 4             1.000000            161\n",
       "APB Reloaded          0.653710             81\n",
       "Mafia II              0.639517             97\n",
       "Neverwinter           0.622807            100\n",
       "Robocraft             0.596462            241\n",
       "Starbound             0.536545            117\n",
       "Heroes & Generals     0.502345            136\n",
       "The Walking Dead      0.489771             94\n",
       "Arma 3                0.489357            144\n",
       "Dishonored            0.479291            119"
      ]
     },
     "execution_count": 42,
     "metadata": {},
     "output_type": "execute_result"
    }
   ],
   "source": [
    "# Sorting the values\n",
    "print('The Top 6 recommendation for Fallout 4 are shown below: ')\n",
    "recommend.sort_values('Correlation', ascending = False).head(10)"
   ]
  },
  {
   "cell_type": "markdown",
   "id": "1ee74295-4160-4d2a-95e5-97536ecee170",
   "metadata": {},
   "source": [
    "# Recommendation Process: Recommendation of Games after \"Team Fortress 2\""
   ]
  },
  {
   "cell_type": "code",
   "execution_count": 43,
   "id": "87a753e1-de68-4e90-af32-09410b319a25",
   "metadata": {},
   "outputs": [],
   "source": [
    "def recommend(game, gamelist, final_data):\n",
    "    # Search for the selected game in the dataset, ignoring case and handling missing values\n",
    "    rating = gamelist[game]\n",
    "    # If the game  is not found, display the message \n",
    "    if rating.empty:\n",
    "        print(\"Game not found.\")\n",
    "        return None\n",
    "    similiar = gamelist.corrwith(rating)\n",
    "    # To create a new data frame grouping similiar by the correlation\n",
    "    corr = pd.DataFrame(similiar, columns = ['Correlation'])\n",
    "    # To remove the null values\\empty spaces\n",
    "    corr.dropna(inplace = True)\n",
    "    # To join the 'No of ratings' column to the dataframe\n",
    "    corr = corr.join(final_data['No of Ratings'])\n",
    "    # To filter games that have less than 70 user ratings\n",
    "    recommend = corr[corr['No of Ratings']>70]\n",
    "    # Return the top 10 recommendations\n",
    "    return recommend.sort_values('Correlation', ascending = False).head(10)"
   ]
  },
  {
   "cell_type": "markdown",
   "id": "a774f46a-a6b5-45cd-8f33-40f7d2cdf653",
   "metadata": {},
   "source": [
    "# The Recommendation process can be carried out for any Game in the dataset"
   ]
  },
  {
   "cell_type": "code",
   "execution_count": 45,
   "id": "78496654-79cc-402f-a796-ac1159834ef8",
   "metadata": {},
   "outputs": [
    {
     "name": "stderr",
     "output_type": "stream",
     "text": [
      "C:\\Users\\oshev\\AppData\\Local\\Programs\\Python\\Python311\\Lib\\site-packages\\numpy\\lib\\function_base.py:2889: RuntimeWarning: Degrees of freedom <= 0 for slice\n",
      "  c = cov(x, y, rowvar, dtype=dtype)\n",
      "C:\\Users\\oshev\\AppData\\Local\\Programs\\Python\\Python311\\Lib\\site-packages\\numpy\\lib\\function_base.py:2748: RuntimeWarning: divide by zero encountered in divide\n",
      "  c *= np.true_divide(1, fact)\n",
      "C:\\Users\\oshev\\AppData\\Local\\Programs\\Python\\Python311\\Lib\\site-packages\\numpy\\lib\\function_base.py:2748: RuntimeWarning: invalid value encountered in multiply\n",
      "  c *= np.true_divide(1, fact)\n",
      "C:\\Users\\oshev\\AppData\\Local\\Programs\\Python\\Python311\\Lib\\site-packages\\numpy\\lib\\function_base.py:2897: RuntimeWarning: invalid value encountered in divide\n",
      "  c /= stddev[:, None]\n",
      "C:\\Users\\oshev\\AppData\\Local\\Programs\\Python\\Python311\\Lib\\site-packages\\numpy\\lib\\function_base.py:2898: RuntimeWarning: invalid value encountered in divide\n",
      "  c /= stddev[None, :]\n"
     ]
    },
    {
     "name": "stdout",
     "output_type": "stream",
     "text": [
      "Recommended Games\n"
     ]
    },
    {
     "data": {
      "text/html": [
       "<div>\n",
       "<style scoped>\n",
       "    .dataframe tbody tr th:only-of-type {\n",
       "        vertical-align: middle;\n",
       "    }\n",
       "\n",
       "    .dataframe tbody tr th {\n",
       "        vertical-align: top;\n",
       "    }\n",
       "\n",
       "    .dataframe thead th {\n",
       "        text-align: right;\n",
       "    }\n",
       "</style>\n",
       "<table border=\"1\" class=\"dataframe\">\n",
       "  <thead>\n",
       "    <tr style=\"text-align: right;\">\n",
       "      <th></th>\n",
       "      <th>Correlation</th>\n",
       "      <th>No of Ratings</th>\n",
       "    </tr>\n",
       "    <tr>\n",
       "      <th>Game_name</th>\n",
       "      <th></th>\n",
       "      <th></th>\n",
       "    </tr>\n",
       "  </thead>\n",
       "  <tbody>\n",
       "    <tr>\n",
       "      <th>Team Fortress 2</th>\n",
       "      <td>1.000000</td>\n",
       "      <td>1476</td>\n",
       "    </tr>\n",
       "    <tr>\n",
       "      <th>Football Manager 2015</th>\n",
       "      <td>0.636364</td>\n",
       "      <td>75</td>\n",
       "    </tr>\n",
       "    <tr>\n",
       "      <th>Mafia II</th>\n",
       "      <td>0.562349</td>\n",
       "      <td>97</td>\n",
       "    </tr>\n",
       "    <tr>\n",
       "      <th>Borderlands</th>\n",
       "      <td>0.388876</td>\n",
       "      <td>121</td>\n",
       "    </tr>\n",
       "    <tr>\n",
       "      <th>Orcs Must Die! 2</th>\n",
       "      <td>0.361242</td>\n",
       "      <td>71</td>\n",
       "    </tr>\n",
       "    <tr>\n",
       "      <th>Deus Ex Human Revolution</th>\n",
       "      <td>0.353478</td>\n",
       "      <td>102</td>\n",
       "    </tr>\n",
       "    <tr>\n",
       "      <th>Call of Duty Modern Warfare 3</th>\n",
       "      <td>0.329679</td>\n",
       "      <td>176</td>\n",
       "    </tr>\n",
       "    <tr>\n",
       "      <th>Call of Duty Black Ops</th>\n",
       "      <td>0.304424</td>\n",
       "      <td>186</td>\n",
       "    </tr>\n",
       "    <tr>\n",
       "      <th>Tomb Raider</th>\n",
       "      <td>0.294533</td>\n",
       "      <td>171</td>\n",
       "    </tr>\n",
       "    <tr>\n",
       "      <th>Dark Souls Prepare to Die Edition</th>\n",
       "      <td>0.293303</td>\n",
       "      <td>81</td>\n",
       "    </tr>\n",
       "  </tbody>\n",
       "</table>\n",
       "</div>"
      ],
      "text/plain": [
       "                                   Correlation  No of Ratings\n",
       "Game_name                                                    \n",
       "Team Fortress 2                       1.000000           1476\n",
       "Football Manager 2015                 0.636364             75\n",
       "Mafia II                              0.562349             97\n",
       "Borderlands                           0.388876            121\n",
       "Orcs Must Die! 2                      0.361242             71\n",
       "Deus Ex Human Revolution              0.353478            102\n",
       "Call of Duty Modern Warfare 3         0.329679            176\n",
       "Call of Duty Black Ops                0.304424            186\n",
       "Tomb Raider                           0.294533            171\n",
       "Dark Souls Prepare to Die Edition     0.293303             81"
      ]
     },
     "execution_count": 45,
     "metadata": {},
     "output_type": "execute_result"
    }
   ],
   "source": [
    "# Example with 'team fortress 2'\n",
    "game = \"Team Fortress 2\"  \n",
    "top_recommendations = recommend(game, gamelist, final_data)\n",
    "\n",
    "# If recommendations are found, print them\n",
    "if top_recommendations is not None:\n",
    "    print(\"Recommended Games\")\n",
    "top_recommendations"
   ]
  },
  {
   "cell_type": "code",
   "execution_count": null,
   "id": "d308e6c8-a736-49c9-b4f9-d25a03c7fcf4",
   "metadata": {},
   "outputs": [],
   "source": []
  }
 ],
 "metadata": {
  "kernelspec": {
   "display_name": "Python 3 (ipykernel)",
   "language": "python",
   "name": "python3"
  },
  "language_info": {
   "codemirror_mode": {
    "name": "ipython",
    "version": 3
   },
   "file_extension": ".py",
   "mimetype": "text/x-python",
   "name": "python",
   "nbconvert_exporter": "python",
   "pygments_lexer": "ipython3",
   "version": "3.11.3"
  }
 },
 "nbformat": 4,
 "nbformat_minor": 5
}
